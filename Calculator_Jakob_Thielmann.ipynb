{
 "cells": [
  {
   "cell_type": "code",
   "execution_count": 80,
   "metadata": {},
   "outputs": [
    {
     "name": "stdout",
     "output_type": "stream",
     "text": [
      "So this is my calculator. You will get now some options for your calculation. In case of option 1 to 4 you will calculate with 2 numbers. Option 5 is the value of the first number raised to the power of the 2nd number. In case of option 6 only the first number counts.\n",
      "What do you want to do? Addition (1), Subtraction (2), Multiplication (3), Division (4), Pow (5) or Square root (6)6\n",
      "This time I only need one number, so go on!59\n",
      "7.681145747868608\n"
     ]
    }
   ],
   "source": [
    "\"Without functions, functions on the following one; check out the following line of code\"\n",
    "import math\n",
    "print(\"So this is my calculator. You will get now some options for your calculation. In case of option 1 to 4 you will calculate with 2 numbers. Option 5 is the value of the first number raised to the power of the 2nd number. In case of option 6 only the first number counts.\")\n",
    "z=input(\"What do you want to do? Addition (1), Subtraction (2), Multiplication (3), Division (4), Pow (5) or Square root (6)\")\n",
    "if (z==\"1\"):\n",
    "    x=int(input(\"Give me the first Number!\"))\n",
    "    y=int(input(\"Give me the second Number!\"))\n",
    "    print(x+y)\n",
    "if (z==\"2\"):\n",
    "    x=int(input(\"Give me the first Number!\"))\n",
    "    y=int(input(\"Give me the second Number!\"))\n",
    "    a= x-y\n",
    "if (z==\"3\"):\n",
    "    x=int(input(\"Give me the first Number!\"))\n",
    "    y=int(input(\"Give me the second Number!\"))\n",
    "    a= x*y\n",
    "if (z==\"4\"):\n",
    "    x=int(input(\"Give me the first Number!\"))\n",
    "    y=int(input(\"Give me the second Number!\"))\n",
    "    a= x/y\n",
    "if (z==\"5\"):\n",
    "    x=int(input(\"Give me the first Number!\"))\n",
    "    y=int(input(\"Give me the second Number!\"))\n",
    "    a= math.pow(x, y)\n",
    "if (z==\"6\"):\n",
    "    x=int(input(\"This time I only need one number, so go on!\"))\n",
    "    a= math.sqrt(x)\n",
    "          \n",
    "print(a)\n"
   ]
  },
  {
   "cell_type": "markdown",
   "metadata": {},
   "source": [
    "\n",
    "\n",
    "\n"
   ]
  },
  {
   "cell_type": "code",
   "execution_count": 2,
   "metadata": {},
   "outputs": [
    {
     "name": "stdout",
     "output_type": "stream",
     "text": [
      "Select your way you want to do math.\n",
      "1. Add\n",
      "2. Subtract\n",
      "3. Multiply\n",
      "4. Divide\n",
      "5. Pow\n",
      "6 Square root\n",
      "Enter choice(1/2/3/4/5/6): 2\n",
      "Give me your first number: 4.2\n",
      "Give me your second number: 9.521\n",
      "4.2 - 9.521 = -5.321000000000001\n"
     ]
    }
   ],
   "source": [
    "\"and this time with functions\"\n",
    "import math \"for pow and sqrt\"\n",
    "\"define the functions for the calculation\"\n",
    "def add(x, y):\n",
    "    return x + y\n",
    "def subtract(x, y):\n",
    "    return x - y\n",
    "def multiply(x, y):\n",
    "    return x * y\n",
    "def divide(x, y):\n",
    "    return x / y\n",
    "def pow(x, y):\n",
    "    return math.pow(x,y)\n",
    "def sqrt(x):\n",
    "    return math.sqrt(x)\n",
    "\n",
    "\"show options you can select\"\n",
    "print(\"Select your way you want to do math.\")\n",
    "print(\"1. Add\")\n",
    "print(\"2. Subtract\")\n",
    "print(\"3. Multiply\")\n",
    "print(\"4. Divide\")\n",
    "print(\"5. Pow\")\n",
    "print(\"6 Square root\")\n",
    "\n",
    "while True:\n",
    "    choice = input(\"Enter choice(1/2/3/4/5/6): \")\n",
    "\n",
    "    if choice in ('1', '2', '3', '4', '5', '6'):\n",
    "\n",
    "        if choice == '1':\n",
    "            x = float(input(\"Give me your first number: \"))\n",
    "            y = float(input(\"Give me your second number: \"))\n",
    "            print(x, \"+\", y, \"=\", add(x, y))\n",
    "\n",
    "        elif choice == '2':\n",
    "            x = float(input(\"Give me your first number: \"))\n",
    "            y = float(input(\"Give me your second number: \"))\n",
    "            print(x, \"-\", y, \"=\", subtract(x, y))\n",
    "\n",
    "        elif choice == '3':\n",
    "            x = float(input(\"Give me your first number: \"))\n",
    "            y = float(input(\"Give me your second number: \"))\n",
    "            print(x, \"*\", y, \"=\", multiply(x, y))\n",
    "\n",
    "        elif choice == '4':\n",
    "            x = float(input(\"Give me your first number: \"))\n",
    "            y = float(input(\"Give me your second number: \"))\n",
    "            print(x, \"/\", y, \"=\", divide(x, y))\n",
    "        elif choice == '5':\n",
    "            x = float(input(\"This time there is only one number needed: \"))\n",
    "            print(\"Square root\", x, \"=\", math.sqrt(x))\n",
    "        elif choice == '6':\n",
    "            x = float(input(\"Give me your first number: \"))\n",
    "            y = float(input(\"Give me your second number: \"))\n",
    "            print(\"The value of\", x, \"to the power of\", num2, \"=\", math.pow(x, y))\n",
    "        break\n",
    "    else:\n",
    "        print(\"Invalid Input\")"
   ]
  },
  {
   "cell_type": "code",
   "execution_count": null,
   "metadata": {},
   "outputs": [],
   "source": []
  },
  {
   "cell_type": "code",
   "execution_count": null,
   "metadata": {},
   "outputs": [],
   "source": []
  }
 ],
 "metadata": {
  "kernelspec": {
   "display_name": "Python 3",
   "language": "python",
   "name": "python3"
  },
  "language_info": {
   "codemirror_mode": {
    "name": "ipython",
    "version": 3
   },
   "file_extension": ".py",
   "mimetype": "text/x-python",
   "name": "python",
   "nbconvert_exporter": "python",
   "pygments_lexer": "ipython3",
   "version": "3.8.5"
  }
 },
 "nbformat": 4,
 "nbformat_minor": 4
}
