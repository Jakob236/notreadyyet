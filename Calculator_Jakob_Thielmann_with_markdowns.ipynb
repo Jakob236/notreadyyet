{
 "cells": [
  {
   "cell_type": "markdown",
   "metadata": {},
   "source": [
    "Erstellung eines Tachenrechners in Python"
   ]
  },
  {
   "cell_type": "markdown",
   "metadata": {},
   "source": [
    "Import necessary modules to compute the stuff"
   ]
  },
  {
   "cell_type": "code",
   "execution_count": 4,
   "metadata": {},
   "outputs": [],
   "source": [
    "import math"
   ]
  },
  {
   "cell_type": "markdown",
   "metadata": {},
   "source": [
    "Create functions to use them later easy"
   ]
  },
  {
   "cell_type": "code",
   "execution_count": 5,
   "metadata": {},
   "outputs": [],
   "source": [
    "def add(x, y):\n",
    "    return x + y"
   ]
  },
  {
   "cell_type": "code",
   "execution_count": 6,
   "metadata": {},
   "outputs": [],
   "source": [
    "def subtract(x, y):\n",
    "    return x - y"
   ]
  },
  {
   "cell_type": "code",
   "execution_count": 7,
   "metadata": {},
   "outputs": [],
   "source": [
    "def multiply(x, y):\n",
    "    return x * y"
   ]
  },
  {
   "cell_type": "code",
   "execution_count": 8,
   "metadata": {},
   "outputs": [],
   "source": [
    "def divide(x, y):\n",
    "    return x / y"
   ]
  },
  {
   "cell_type": "code",
   "execution_count": 9,
   "metadata": {},
   "outputs": [],
   "source": [
    "def pow(x, y):\n",
    "    return math.pow(x,y)"
   ]
  },
  {
   "cell_type": "code",
   "execution_count": 10,
   "metadata": {},
   "outputs": [],
   "source": [
    "def sqrt(x):\n",
    "    return math.sqrt(x)\n"
   ]
  },
  {
   "cell_type": "markdown",
   "metadata": {},
   "source": [
    "Show the options you can select with different outputs"
   ]
  },
  {
   "cell_type": "code",
   "execution_count": 11,
   "metadata": {},
   "outputs": [
    {
     "name": "stdout",
     "output_type": "stream",
     "text": [
      "Select your way you want to do math.\n",
      "1. Add\n",
      "2. Subtract\n",
      "3. Multiply\n",
      "4. Divide\n",
      "5. Pow\n",
      "6 Square root\n"
     ]
    }
   ],
   "source": [
    "print(\"Select your way you want to do math.\")\n",
    "print(\"1. Add\")\n",
    "print(\"2. Subtract\")\n",
    "print(\"3. Multiply\")\n",
    "print(\"4. Divide\")\n",
    "print(\"5. Pow\")\n",
    "print(\"6 Square root\")"
   ]
  },
  {
   "cell_type": "markdown",
   "metadata": {},
   "source": [
    "Create the while-true statement and use of the functions"
   ]
  },
  {
   "cell_type": "code",
   "execution_count": 12,
   "metadata": {},
   "outputs": [
    {
     "name": "stdout",
     "output_type": "stream",
     "text": [
      "Enter choice(1/2/3/4/5/6): 2\n",
      "Give me your first number: 20\n",
      "Give me your second number: 21\n",
      "20.0 - 21.0 = -1.0\n"
     ]
    }
   ],
   "source": [
    "while True:\n",
    "    choice = input(\"Enter choice(1/2/3/4/5/6): \")\n",
    "\n",
    "    if choice in ('1', '2', '3', '4', '5', '6'):\n",
    "\n",
    "        if choice == '1':\n",
    "            x = float(input(\"Give me your first number: \"))\n",
    "            y = float(input(\"Give me your second number: \"))\n",
    "            print(x, \"+\", y, \"=\", add(x, y))\n",
    "\n",
    "        elif choice == '2':\n",
    "            x = float(input(\"Give me your first number: \"))\n",
    "            y = float(input(\"Give me your second number: \"))\n",
    "            print(x, \"-\", y, \"=\", subtract(x, y))\n",
    "\n",
    "        elif choice == '3':\n",
    "            x = float(input(\"Give me your first number: \"))\n",
    "            y = float(input(\"Give me your second number: \"))\n",
    "            print(x, \"*\", y, \"=\", multiply(x, y))\n",
    "\n",
    "        elif choice == '4':\n",
    "            x = float(input(\"Give me your first number: \"))\n",
    "            y = float(input(\"Give me your second number: \"))\n",
    "            print(x, \"/\", y, \"=\", divide(x, y))\n",
    "        elif choice == '5':\n",
    "            x = float(input(\"This time there is only one number needed: \"))\n",
    "            print(\"Square root\", x, \"=\", math.sqrt(x))\n",
    "        elif choice == '6':\n",
    "            x = float(input(\"Give me your first number: \"))\n",
    "            y = float(input(\"Give me your second number: \"))\n",
    "            print(\"The value of\", x, \"to the power of\", num2, \"=\", math.pow(x, y))\n",
    "        break\n",
    "    else:\n",
    "        print(\"Invalid Input\")"
   ]
  },
  {
   "cell_type": "code",
   "execution_count": null,
   "metadata": {},
   "outputs": [],
   "source": []
  },
  {
   "cell_type": "code",
   "execution_count": null,
   "metadata": {},
   "outputs": [],
   "source": []
  },
  {
   "cell_type": "code",
   "execution_count": null,
   "metadata": {},
   "outputs": [],
   "source": []
  },
  {
   "cell_type": "code",
   "execution_count": null,
   "metadata": {},
   "outputs": [],
   "source": []
  }
 ],
 "metadata": {
  "kernelspec": {
   "display_name": "Python 3",
   "language": "python",
   "name": "python3"
  },
  "language_info": {
   "codemirror_mode": {
    "name": "ipython",
    "version": 3
   },
   "file_extension": ".py",
   "mimetype": "text/x-python",
   "name": "python",
   "nbconvert_exporter": "python",
   "pygments_lexer": "ipython3",
   "version": "3.8.5"
  }
 },
 "nbformat": 4,
 "nbformat_minor": 4
}
