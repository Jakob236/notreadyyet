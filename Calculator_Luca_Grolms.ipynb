{
 "cells": [
  {
   "cell_type": "code",
   "execution_count": null,
   "id": "ea107553",
   "metadata": {},
   "outputs": [],
   "source": [
    "import math\n",
    "\n",
    "\"The functions for the calculator\"\n",
    "def addition(self):\n",
    "        print(a + b)\n",
    "        \n",
    "def subtraction(self):\n",
    "        print(a - b)\n",
    "        \n",
    "def multiplication(self):\n",
    "        print(a * b)\n",
    "        \n",
    "def division(self):\n",
    "        print(a / b)\n",
    "        \n",
    "\"input from the user\"       \n",
    "a = int(input(\"Enter first number:\"))\n",
    "b = int(input(\"Enter first number:\"))\n",
    "\n",
    "obj = Calculator()\n",
    "\n",
    "choice = 1\n",
    "\n",
    "\"choices to perform with the calculator\"\n",
    "while choice != 0:\n",
    "    print(\"1. Addition\")\n",
    "    print(\"2. Subtraction\")\n",
    "    print(\"3. Multiplication\")\n",
    "    print(\"4. Division\")\n",
    "    choice = int(input(\"Enter choice:\"))\n",
    "    if choice == 1:\n",
    "        print(obj.addition())\n",
    "    elif choice == 2:\n",
    "        print(obj.subtraction())\n",
    "    elif choice == 3:\n",
    "        print(obj.multiplication())\n",
    "    elif choice == 4:\n",
    "        print(obj.division())\n",
    "    else:\n",
    "        print(\"Invalid choice\")"
   ]
  },
  {
   "cell_type": "code",
   "execution_count": null,
   "id": "6f766c25",
   "metadata": {},
   "outputs": [],
   "source": []
  },
  {
   "cell_type": "code",
   "execution_count": null,
   "id": "fa06de6c",
   "metadata": {},
   "outputs": [],
   "source": []
  },
  {
   "cell_type": "code",
   "execution_count": null,
   "id": "fd1e1bfd",
   "metadata": {},
   "outputs": [],
   "source": []
  },
  {
   "cell_type": "code",
   "execution_count": null,
   "id": "c370f0f9",
   "metadata": {},
   "outputs": [],
   "source": []
  },
  {
   "cell_type": "code",
   "execution_count": null,
   "id": "f3f74e8f",
   "metadata": {},
   "outputs": [],
   "source": []
  },
  {
   "cell_type": "code",
   "execution_count": null,
   "id": "857f81ca",
   "metadata": {},
   "outputs": [],
   "source": []
  },
  {
   "cell_type": "code",
   "execution_count": null,
   "id": "92e36a67",
   "metadata": {},
   "outputs": [],
   "source": []
  },
  {
   "cell_type": "code",
   "execution_count": null,
   "id": "6e380947",
   "metadata": {},
   "outputs": [],
   "source": []
  },
  {
   "cell_type": "code",
   "execution_count": null,
   "id": "613e0c5d",
   "metadata": {},
   "outputs": [],
   "source": []
  }
 ],
 "metadata": {
  "kernelspec": {
   "display_name": "Python 3",
   "language": "python",
   "name": "python3"
  },
  "language_info": {
   "codemirror_mode": {
    "name": "ipython",
    "version": 3
   },
   "file_extension": ".py",
   "mimetype": "text/x-python",
   "name": "python",
   "nbconvert_exporter": "python",
   "pygments_lexer": "ipython3",
   "version": "3.8.10"
  }
 },
 "nbformat": 4,
 "nbformat_minor": 5
}
